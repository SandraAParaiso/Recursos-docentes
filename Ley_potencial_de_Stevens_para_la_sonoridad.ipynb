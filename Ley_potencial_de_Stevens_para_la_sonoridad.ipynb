{
  "nbformat": 4,
  "nbformat_minor": 0,
  "metadata": {
    "colab": {
      "provenance": []
    },
    "kernelspec": {
      "name": "python3",
      "display_name": "Python 3"
    },
    "language_info": {
      "name": "python"
    }
  },
  "cells": [
    {
      "cell_type": "markdown",
      "source": [
        "# Ley potencial de Stevens para la sonoridad"
      ],
      "metadata": {
        "id": "d0UJye1rlp3s"
      }
    },
    {
      "cell_type": "code",
      "execution_count": 1,
      "metadata": {
        "id": "fMmLO-9IeMXh"
      },
      "outputs": [],
      "source": [
        "import math\n",
        "\n",
        "Pre = 0.0002 #Presión sonora de referencia en dinas/cm^2\n",
        "\n",
        "# Datos conocidos\n",
        "n = 27  # Número de datos\n",
        "sum_N = 810  # Sumatorio de N\n",
        "sum_log_L = -8.562  # Sumatorio de log(L)\n",
        "sum_N_squared = 28800  # Sumatorio de N^2\n",
        "sum_N_log_L = -124.759  # Sumatorio de N * log(L)"
      ]
    },
    {
      "cell_type": "code",
      "source": [
        "# Representación gráfica de la Ley potencial de Stevens\n",
        "\n",
        "decibelios = range(1,200,20)\n",
        "Loudness=[]\n",
        "Loudness = [b * ((Pre * (10**(decibelio/20))) ** a) for decibelio in decibelios] #Aquí se trabaja con el nivel de presión sonora (dB)\n",
        "\n",
        "import matplotlib.pyplot as plt\n",
        "plt.plot(decibelios, Loudness, marker='o', linestyle='-')\n",
        "plt.xlabel('Nivel de presión sonora (dB)')\n",
        "plt.ylabel('Sonoridad (SONES)')\n",
        "plt.yscale('log')\n",
        "plt.xlim(15, 160)"
      ],
      "metadata": {
        "colab": {
          "base_uri": "https://localhost:8080/",
          "height": 467
        },
        "id": "n07g4cKHqzTk",
        "outputId": "e6bb5455-e0dc-4869-b08f-6a615f2e129f"
      },
      "execution_count": 14,
      "outputs": [
        {
          "output_type": "execute_result",
          "data": {
            "text/plain": [
              "(15.0, 160.0)"
            ]
          },
          "metadata": {},
          "execution_count": 14
        },
        {
          "output_type": "display_data",
          "data": {
            "text/plain": [
              "<Figure size 640x480 with 1 Axes>"
            ],
            "image/png": "[encoded data removed]"
          },
          "metadata": {}
        }
      ]
    },
    {
      "cell_type": "code",
      "source": [
        "#Regresión lineal simple:\n",
        "\n",
        "# Cálculo de la pendiente de la recta de regresión\n",
        "A = (n * sum_N_log_L - sum_N * sum_log_L) / (n * sum_N_squared - sum_N ** 2)\n",
        "\n",
        "# Cálculo del intercepto/sesgo/bias de la recta de regresión\n",
        "B = (sum_log_L/27) - (A*(sum_N/27))"
      ],
      "metadata": {
        "id": "N6_C53xJmL2-"
      },
      "execution_count": 2,
      "outputs": []
    },
    {
      "cell_type": "code",
      "source": [
        "# Cálculo del exponente de la Ley potencial de Stevens (a)\n",
        "a = 20*A\n",
        "print(f\"Exponente de Stevens (a): {a:.3f}\")\n",
        "\n",
        "# Cálculo de la constante de la Ley potencial de Stevens (b)\n",
        "b = (10**B)/(Pre**a)\n",
        "print(f\"Constante de Stevens (b): {b:.3f}\")"
      ],
      "metadata": {
        "colab": {
          "base_uri": "https://localhost:8080/"
        },
        "id": "yDEf-JemmL-F",
        "outputId": "4f5662b5-f3e4-4379-bbb3-cd9d4486fa9b"
      },
      "execution_count": 3,
      "outputs": [
        {
          "output_type": "stream",
          "name": "stdout",
          "text": [
            "Exponente de Stevens (a): 0.587\n",
            "Constante de Stevens (b): 9.418\n"
          ]
        }
      ]
    },
    {
      "cell_type": "code",
      "source": [
        "# Ejemplo: ¿Cuál será la sonoridad percibida con una presión sonora de 0.06 dinas/cm^2?\n",
        "p = 0.06\n",
        "Loudness = b * (p ** a)  # Nivel de presión sonora en dB para p\n",
        "print(f\"Sonoridad (L) para p = 0.06 dinas/cm^2: {Loudness:.3f} sones\")"
      ],
      "metadata": {
        "colab": {
          "base_uri": "https://localhost:8080/"
        },
        "id": "MGs3DqJomMBF",
        "outputId": "e654376a-3c44-4ff2-c9a5-b08212531694"
      },
      "execution_count": 4,
      "outputs": [
        {
          "output_type": "stream",
          "name": "stdout",
          "text": [
            "Sonoridad (L) para p = 0.06 dinas/cm^2: 1.805 sones\n"
          ]
        }
      ]
    },
    {
      "cell_type": "markdown",
      "source": [
        "Se puede calcular el nivel de presión sonora necesario para percibir el doble de sonoridad despejando de la siguiente ecuación:\n",
        "\n",
        "\\begin{equation}\n",
        "k \\cdot L = b \\cdot Pre^a \\cdot 10^{a \\cdot \\frac {  \\left(N - D\\right) }{20}} \\\n",
        "\\end{equation}\n",
        "\n",
        "Donde:\n",
        "  \n",
        "  - k es el incremento o reducción de sonoridad esperado (para duplicar la sonoridad k = 2, si se pretende reducir a la mitad k = 1/2)\n",
        "  \n",
        "  - D es el incremento o decremento en el nivel de presión sonora que se necesita para percibir la sonoridad buscada."
      ],
      "metadata": {
        "id": "YN45W99FmRJr"
      }
    },
    {
      "cell_type": "code",
      "source": [
        "# Calcule el nivel de presión sonora necesario para percibir el doble de sonoridad\n",
        "k = 2 #el doble de sonoridad\n",
        "db = 40\n",
        "D = -(math.log(k,10))/(a/20)\n",
        "print(f\"Nivel de presión sonora necesario para el doble de sonoridad: {db - D:.2f} dB\")"
      ],
      "metadata": {
        "colab": {
          "base_uri": "https://localhost:8080/"
        },
        "id": "twl09n-8mMEQ",
        "outputId": "08103051-da44-4748-8063-e7b97ac8aac6"
      },
      "execution_count": 46,
      "outputs": [
        {
          "output_type": "stream",
          "name": "stdout",
          "text": [
            "Nivel de presión sonora necesario para el doble de sonoridad: 50.25 dB\n"
          ]
        }
      ]
    },
    {
      "cell_type": "code",
      "source": [
        "# Se puede comprobar evaluando la Ley potencial de Stevens para un nivel de presión sonora de 50.25 y de 40 dB\n",
        "l_doble = b * ((Pre * (10**((db - D)/20))) ** a)\n",
        "l = b * ((Pre * (10**(db/20))) ** a)\n",
        "\n",
        "if round(l*k)==round(l_doble):\n",
        "  print(f'Has calculado bien el nivel de presión sonora que multiplica por {k} la sonoridad')\n",
        "else:\n",
        "  print(f'Has calculado MAL el nivel de presión sonora que multiplica por {k} la sonoridad')"
      ],
      "metadata": {
        "colab": {
          "base_uri": "https://localhost:8080/"
        },
        "id": "GrMP9V3k1QVA",
        "outputId": "15d3580f-437d-4a45-f493-984237239b39"
      },
      "execution_count": 47,
      "outputs": [
        {
          "output_type": "stream",
          "name": "stdout",
          "text": [
            "Has calculado bien el nivel de presión sonora que multiplica por 2 la sonoridad\n"
          ]
        }
      ]
    },
    {
      "cell_type": "markdown",
      "source": [
        "<hr>\n",
        "\n",
        "Creado por **Sandra Arranz Paraíso** (sandraar@ucm.es)\n",
        "\n",
        "<img src=\"https://licensebuttons.net/l/by-nc-sa/3.0/88x31.png\">"
      ],
      "metadata": {
        "id": "aj4pYxSnsIqj"
      }
    }
  ]
}