{
  "nbformat": 4,
  "nbformat_minor": 0,
  "metadata": {
    "colab": {
      "provenance": []
    },
    "kernelspec": {
      "name": "python3",
      "display_name": "Python 3"
    },
    "language_info": {
      "name": "python"
    }
  },
  "cells": [
    {
      "cell_type": "markdown",
      "source": [
        "# Ley potencial de Stevens para la percepción del brillo en función de la luminancia"
      ],
      "metadata": {
        "id": "d0UJye1rlp3s"
      }
    },
    {
      "cell_type": "code",
      "execution_count": 1,
      "metadata": {
        "id": "fMmLO-9IeMXh"
      },
      "outputs": [],
      "source": [
        "import math\n",
        "\n",
        "# Datos conocidos\n",
        "n = 27  # Número de datos\n",
        "sum_log_L = 50.802  # Sumatorio de log(L), siendo L la luminancia medida en candelas/m^2\n",
        "sum_log_Br = 51.544  # Sumatorio de log(L)\n",
        "sum_log_L_squared = 103.109  # Sumatorio de log(L)^2\n",
        "sum_log_L_log_Br = 100.787  # Sumatorio de log(L) * log(Br), siendo Br la estimación del brillo. En el experimento se realiza la estimación asumiendo que el estímulo de referencia tiene un brillo de 100 brils."
      ]
    },
    {
      "cell_type": "code",
      "source": [
        "# Representación gráfica de la Ley potencial de Stevens\n",
        "\n",
        "luminancia = range(1,200,20)\n",
        "b = 4 #por ejemplo\n",
        "a = 0.4 #por ejemplo\n",
        "Brillo=[]\n",
        "Brillo = [b * (lumin ** a) for lumin in luminancia]\n",
        "\n",
        "import matplotlib.pyplot as plt\n",
        "plt.plot(luminancia, Brillo, marker='o', linestyle='-')\n",
        "plt.xlabel('Luminancia (cd/m^2)')\n",
        "plt.ylabel('Brillo (Brils)')\n",
        "plt.yscale('log')\n",
        "plt.xscale('log')\n",
        "plt.xlim(10, 118)\n",
        "plt.ylim(10, 40)"
      ],
      "metadata": {
        "colab": {
          "base_uri": "https://localhost:8080/",
          "height": 479
        },
        "id": "n07g4cKHqzTk",
        "outputId": "4b58e1eb-e0d4-4e88-a054-b0bbdf85e7c8"
      },
      "execution_count": 2,
      "outputs": [
        {
          "output_type": "execute_result",
          "data": {
            "text/plain": [
              "(10, 40)"
            ]
          },
          "metadata": {},
          "execution_count": 2
        },
        {
          "output_type": "display_data",
          "data": {
            "text/plain": [
              "<Figure size 640x480 with 1 Axes>"
            ],
            "image/png": "[encoded data removed]"
          },
          "metadata": {}
        }
      ]
    },
    {
      "cell_type": "code",
      "source": [
        "import math\n",
        "\n",
        "# Datos conocidos\n",
        "n = 27  # Número de datos\n",
        "sum_log_L = 54.980  # Sumatorio de log(L), siendo L la luminancia medida en candelas/m^2\n",
        "sum_log_Br = 51.456  # Sumatorio de log(L)\n",
        "sum_log_L_squared = 143.288  # Sumatorio de log(L)^2\n",
        "sum_log_L_log_Br = 116.989  # Sumatorio de log(L) * log(Br), siendo Br la estimación del brillo. En el experimento se realiza la estimación asumiendo que el estímulo de referencia tiene un brillo de 100 brils.\n",
        "\n",
        "#Regresión lineal simple:\n",
        "\n",
        "# Cálculo de la pendiente de la recta de regresión\n",
        "A = (n * sum_log_L_log_Br - (sum_log_L * sum_log_Br)) / (n * sum_log_L_squared - sum_log_L ** 2)\n",
        "\n",
        "# Cálculo del intercepto/sesgo/bias de la recta de regresión\n",
        "B = (sum_log_Br/27) - (A*(sum_log_L/27))\n",
        "\n",
        "# Cálculo del exponente de la Ley potencial de Stevens (a)\n",
        "a = A\n",
        "print(f\"Exponente de Stevens (a): {a:.3f}\")\n",
        "\n",
        "# Cálculo de la constante de la Ley potencial de Stevens (b)\n",
        "b = (10**B)\n",
        "print(f\"Constante de Stevens (b): {b:.3f}\")\n",
        "\n",
        "# Ejemplo: ¿Cuál será el brillo percibido con una luminancia 100 candelas/m^2?\n",
        "L = 100\n",
        "Brillo = b * (L ** a)  # Luminancia en candelas/m^2\n",
        "print(f\"Brillo (Br) para {L} candelas/m^2: {Brillo:.3f} brils\")"
      ],
      "metadata": {
        "colab": {
          "base_uri": "https://localhost:8080/"
        },
        "id": "KnTT48ZabXQh",
        "outputId": "0cd9ef05-f17b-45f9-aa6c-8a9254fa4e45"
      },
      "execution_count": 3,
      "outputs": [
        {
          "output_type": "stream",
          "name": "stdout",
          "text": [
            "Exponente de Stevens (a): 0.390\n",
            "Constante de Stevens (b): 12.951\n",
            "Brillo (Br) para 100 candelas/m^2: 77.917 brils\n"
          ]
        }
      ]
    },
    {
      "cell_type": "code",
      "source": [
        "#Regresión lineal simple:\n",
        "\n",
        "# Cálculo de la pendiente de la recta de regresión\n",
        "A = (n * sum_log_L_log_Br - (sum_log_L * sum_log_Br)) / (n * sum_log_L_squared - sum_log_L ** 2)\n",
        "\n",
        "# Cálculo del intercepto/sesgo/bias de la recta de regresión\n",
        "B = (sum_log_Br/27) - (A*(sum_log_L/27))"
      ],
      "metadata": {
        "id": "N6_C53xJmL2-"
      },
      "execution_count": 4,
      "outputs": []
    },
    {
      "cell_type": "code",
      "source": [
        "# Cálculo del exponente de la Ley potencial de Stevens (a)\n",
        "a = A\n",
        "print(f\"Exponente de Stevens (a): {a:.3f}\")\n",
        "\n",
        "# Cálculo de la constante de la Ley potencial de Stevens (b)\n",
        "b = (10**B)\n",
        "print(f\"Constante de Stevens (b): {b:.3f}\")"
      ],
      "metadata": {
        "colab": {
          "base_uri": "https://localhost:8080/"
        },
        "id": "yDEf-JemmL-F",
        "outputId": "d7cedcca-f486-4644-8ca4-3cef5baa02cb"
      },
      "execution_count": 5,
      "outputs": [
        {
          "output_type": "stream",
          "name": "stdout",
          "text": [
            "Exponente de Stevens (a): 0.390\n",
            "Constante de Stevens (b): 12.951\n"
          ]
        }
      ]
    },
    {
      "cell_type": "code",
      "source": [
        "# Ejemplo: ¿Cuál será el brillo percibido con una luminancia 80 candelas/m^2?\n",
        "L = 80\n",
        "b = 50.1\n",
        "a = 0.143\n",
        "Brillo = b * (L ** a)  # Luminancia en candelas/m^2\n",
        "print(f\"Brillo (Br) para {L} candelas/m^2: {Brillo:.3f} brils\")"
      ],
      "metadata": {
        "colab": {
          "base_uri": "https://localhost:8080/"
        },
        "id": "MGs3DqJomMBF",
        "outputId": "89e4d981-b462-4dbb-f46d-1008ea8a4f40"
      },
      "execution_count": 6,
      "outputs": [
        {
          "output_type": "stream",
          "name": "stdout",
          "text": [
            "Brillo (Br) para 80 candelas/m^2: 93.752 brils\n"
          ]
        }
      ]
    },
    {
      "cell_type": "markdown",
      "source": [
        "Se puede calcular el nivel de luminancia necesario para percibir el doble de brillo despejando de la siguiente ecuación:\n",
        "\n",
        "\\begin{equation}\n",
        "k \\cdot Br = b \\cdot (L-D)^a\n",
        "\\end{equation}\n",
        "\n",
        "Donde:\n",
        "  \n",
        "  - k es el incremento o reducción de brillo esperado (para duplicar el brillo k = 2, mientras que si se pretende reducir a la mitad k = 1/2)\n",
        "  \n",
        "  - D es el incremento o decremento en la luminancia que se necesita para percibir el brillo buscado.\n",
        "\n",
        "  De modo que,\n",
        "\n",
        "  \\begin{equation}\n",
        "D = (\\sqrt[a]{k} \\cdot L)-L \\\\\n",
        "\\end{equation}"
      ],
      "metadata": {
        "id": "Cik7fHTZnLpr"
      }
    },
    {
      "cell_type": "code",
      "source": [
        "# Calcule el nivel de luminancia necesario para percibir el doble de brillo\n",
        "import math\n",
        "k = 2 #el doble de brillo\n",
        "L = 100\n",
        "a = 0.33\n",
        "D = (k**(1/a) * L) - L\n",
        "print(f\"Nivel de luminancia necesario para multiplicar por {k} el brillo: {L+D:.2f} cd/m^2\")"
      ],
      "metadata": {
        "id": "twl09n-8mMEQ",
        "colab": {
          "base_uri": "https://localhost:8080/"
        },
        "outputId": "c3298500-74af-4ff4-db7c-ba74041a6d83"
      },
      "execution_count": 8,
      "outputs": [
        {
          "output_type": "stream",
          "name": "stdout",
          "text": [
            "Nivel de luminancia necesario para multiplicar por 2 el brillo: 816.98 cd/m^2\n"
          ]
        }
      ]
    },
    {
      "cell_type": "code",
      "source": [
        "# Se puede comprobar evaluando la Ley potencial de Stevens para una luminancia de 816.98 y de 100 cd/m^2\n",
        "br_doble = b * ((L + D) ** a)\n",
        "br = b * (L ** a)\n",
        "\n",
        "if round(br*k)==round(br_doble):\n",
        "  print(f'Has calculado bien el nivel de luminancia que multiplica por {k} el brillo')\n",
        "else:\n",
        "  print(f'Has calculado MAL el nivel de luminancia que multiplica por {k} el brillo')"
      ],
      "metadata": {
        "colab": {
          "base_uri": "https://localhost:8080/"
        },
        "id": "GrMP9V3k1QVA",
        "outputId": "a1e65f9e-7707-43d4-c031-ae48689381ab"
      },
      "execution_count": 17,
      "outputs": [
        {
          "output_type": "stream",
          "name": "stdout",
          "text": [
            "Has calculado bien el nivel de luminancia que multiplica por 2 el brillo\n"
          ]
        }
      ]
    },
    {
      "cell_type": "markdown",
      "source": [
        "<hr>\n",
        "\n",
        "Creado por **Sandra Arranz Paraíso** (sandraar@ucm.es)\n",
        "\n",
        "<img src=\"https://licensebuttons.net/l/by-nc-sa/3.0/88x31.png\">"
      ],
      "metadata": {
        "id": "aj4pYxSnsIqj"
      }
    }
  ]
}