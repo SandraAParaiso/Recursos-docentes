{
  "nbformat": 4,
  "nbformat_minor": 0,
  "metadata": {
    "colab": {
      "provenance": []
    },
    "kernelspec": {
      "name": "python3",
      "display_name": "Python 3"
    },
    "language_info": {
      "name": "python"
    }
  },
  "cells": [
    {
      "cell_type": "markdown",
      "source": [
        "# Ley potencial de Stevens para el brillo"
      ],
      "metadata": {
        "id": "d0UJye1rlp3s"
      }
    },
    {
      "cell_type": "code",
      "execution_count": 29,
      "metadata": {
        "id": "fMmLO-9IeMXh"
      },
      "outputs": [],
      "source": [
        "import math\n",
        "\n",
        "# Datos conocidos\n",
        "n = 27  # Número de datos\n",
        "sum_log_L = 50.802  # Sumatorio de log(L), siendo L la luminancia medida en candelas/m^2\n",
        "sum_log_Br = 51.544  # Sumatorio de log(L)\n",
        "sum_log_L_squared = 103.109  # Sumatorio de log(L)^2\n",
        "sum_log_L_log_Br = 100.787  # Sumatorio de log(L) * log(Br), siendo Br la estimación del brillo. En el experimento se realiza la estimación asumiendo que el estímulo de referencia tiene un brillo de 100 brils."
      ]
    },
    {
      "cell_type": "code",
      "source": [
        "# Representación gráfica de la Ley potencial de Stevens\n",
        "\n",
        "luminancia = range(1,200,20)\n",
        "b = 6 #por ejemplo\n",
        "a = 0.33 #por ejemplo\n",
        "Brillo=[]\n",
        "Brillo = [b * (lumin ** a) for lumin in luminancia]\n",
        "\n",
        "import matplotlib.pyplot as plt\n",
        "plt.plot(luminancia, Brillo, marker='o', linestyle='-')\n",
        "plt.xlabel('Luminancia (cd/m^2)')\n",
        "plt.ylabel('Brillo (Brils)')\n",
        "plt.yscale('log')\n",
        "plt.xscale('log')\n",
        "plt.xlim(10, 118)\n",
        "plt.ylim(10, 40)"
      ],
      "metadata": {
        "colab": {
          "base_uri": "https://localhost:8080/",
          "height": 479
        },
        "id": "n07g4cKHqzTk",
        "outputId": "fc30b376-a13f-42b9-e799-e4a9b857d8e6"
      },
      "execution_count": 37,
      "outputs": [
        {
          "output_type": "execute_result",
          "data": {
            "text/plain": [
              "(10, 40)"
            ]
          },
          "metadata": {},
          "execution_count": 37
        },
        {
          "output_type": "display_data",
          "data": {
            "text/plain": [
              "<Figure size 640x480 with 1 Axes>"
            ],
            "image/png": "[encoded data removed]"
          },
          "metadata": {}
        }
      ]
    },
    {
      "cell_type": "code",
      "source": [
        "#Regresión lineal simple:\n",
        "\n",
        "# Cálculo de la pendiente de la recta de regresión\n",
        "A = (n * sum_log_L_log_Br - (sum_log_L * sum_log_Br)) / (n * sum_log_L_squared - sum_log_L ** 2)\n",
        "\n",
        "# Cálculo del intercepto/sesgo/bias de la recta de regresión\n",
        "B = (sum_log_Br/27) - (A*(sum_log_L/27))"
      ],
      "metadata": {
        "id": "N6_C53xJmL2-"
      },
      "execution_count": 31,
      "outputs": []
    },
    {
      "cell_type": "code",
      "source": [
        "# Cálculo del exponente de la Ley potencial de Stevens (a)\n",
        "a = A\n",
        "print(f\"Exponente de Stevens (a): {a:.3f}\")\n",
        "\n",
        "# Cálculo de la constante de la Ley potencial de Stevens (b)\n",
        "b = (10**B)\n",
        "print(f\"Constante de Stevens (b): {b:.3f}\")"
      ],
      "metadata": {
        "colab": {
          "base_uri": "https://localhost:8080/"
        },
        "id": "yDEf-JemmL-F",
        "outputId": "a083c079-5099-40ed-b1a4-d61408d83cc3"
      },
      "execution_count": 32,
      "outputs": [
        {
          "output_type": "stream",
          "name": "stdout",
          "text": [
            "Exponente de Stevens (a): 0.506\n",
            "Constante de Stevens (b): 9.068\n"
          ]
        }
      ]
    },
    {
      "cell_type": "code",
      "source": [
        "# Ejemplo: ¿Cuál será el brillo percibido con una luminancia 0.06 candelas/m^2?\n",
        "L = 0.06\n",
        "Brillo = b * (L ** a)  # Luminancia en candelas/m^2\n",
        "print(f\"Brillo (Br) para L = 0.06 candelas/m^2: {Brillo:.3f} brils\")"
      ],
      "metadata": {
        "colab": {
          "base_uri": "https://localhost:8080/"
        },
        "id": "MGs3DqJomMBF",
        "outputId": "dbb07f56-97ab-46f3-d56d-331fa390314b"
      },
      "execution_count": 33,
      "outputs": [
        {
          "output_type": "stream",
          "name": "stdout",
          "text": [
            "Brillo (Br) para L = 0.06 candelas/m^2: 2.186 brils\n"
          ]
        }
      ]
    },
    {
      "cell_type": "markdown",
      "source": [
        "<hr>\n",
        "\n",
        "Creado por **Sandra Arranz Paraíso** (sandraar@ucm.es)\n",
        "\n",
        "<img src=\"https://licensebuttons.net/l/by-nc-sa/3.0/88x31.png\">"
      ],
      "metadata": {
        "id": "aj4pYxSnsIqj"
      }
    }
  ]
}